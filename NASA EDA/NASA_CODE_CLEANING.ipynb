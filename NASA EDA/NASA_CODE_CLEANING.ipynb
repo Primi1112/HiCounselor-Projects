{
 "cells": [
  {
   "attachments": {},
   "cell_type": "markdown",
   "metadata": {},
   "source": [
    "## Unveiling the Stars: An Exploratory Study on NASA Astronauts\n",
    "The exploration of NASA astronauts, a venture steeped in the allure of space exploration and human achievement, delves into a rich tapestry of individual stories and collective triumphs. While the stars above have always beckoned to humanity's sense of wonder, it is the individuals who have ventured beyond our atmosphere that make these dreams a reality.\n",
    "\n",
    "In the realm of space exploration, talent, education, and diverse backgrounds are paramount. Every astronaut who has embarked on a journey to the cosmos is a testament to years of unwavering commitment and relentless pursuit of knowledge. Their experiences are as varied as the constellations in the night sky, with each astronaut bringing their unique set of skills, education, and expertise to the NASA family.\n",
    "\n",
    "Yet, in the world of space exploration, it's not just about the individuals themselves; it's also about understanding the collective achievements and trends of NASA's astronaut corps. This is where a deep analysis of the provided dataset becomes pivotal.\n",
    "\n",
    "And this is where you come in.\n",
    "\n",
    "As an integral part of the team tasked with exploring this treasure trove of astronaut data, your role is crucial. You are the data virtuoso, the one who can transform raw information into meaningful insights that illuminate the demographics, careers, and accomplishments of NASA astronauts.\n",
    "\n",
    "Using the latest tools and techniques in data analysis, you dissect the dataset, scrutinizing astronauts' backgrounds, experiences, and missions. You uncover patterns and trends that reveal the diverse tapestry of NASA's astronaut corps, from their educational journeys to their military service and their remarkable achievements in space.\n",
    "\n",
    "As the project progresses, the excitement builds, and the knowledge you uncover becomes a source of inspiration. Researchers, space enthusiasts, and dreamers may not see the meticulous work behind the scenes, but they feel its impact in every chart, graph, and revelation.\n",
    "\n",
    "In the world of astronaut analysis, you are the unsung hero, the one who helps unveil the extraordinary stories of those who have touched the stars. Your dedication to data and your ability to transform it into illuminating insights contribute to the ongoing saga of human exploration, making every astronaut's journey that much more extraordinary."
   ]
  },
  {
   "attachments": {},
   "cell_type": "markdown",
   "metadata": {},
   "source": [
    "## Module 1\n",
    "Task 1: Exploring NASA's Data Universe.\n",
    "Our analysis of NASA's dataset is a mission to unveil profound insights within the realm of space exploration. Beyond mere data analysis, it's a journey to harness the knowledge hidden in the stars. Through this exploration, we aim to uncover patterns that will guide future missions, enhancing NASA's cosmic endeavors. Every data point is a piece of the cosmic puzzle, fueling innovation and inspiring generations to reach for the stars. In these numbers and statistics, we find the roadmap to the next frontier of human exploration."
   ]
  },
  {
   "cell_type": "code",
   "execution_count": null,
   "metadata": {
    "vscode": {
     "languageId": "plaintext"
    }
   },
   "outputs": [],
   "source": [
    "#--- Import Pandas ---\n",
    "import pandas as pd\n",
    "#--- Read in dataset ----\n",
    "df = pd.read_csv('nasa.csv')\n",
    "df\n",
    "# ---WRITE YOUR CODE FOR TASK 1 ---\n",
    "#--- Inspect data ---"
   ]
  },
  {
   "attachments": {},
   "cell_type": "markdown",
   "metadata": {},
   "source": [
    "## Task 2: Exploring Data Completeness.\n",
    "In the midst of your data exploration, armed with the NASA astronaut dataset, you've arrived at a crucial juncture. You're now delving into the realm of data quality, seeking to understand the integrity of the information you're working with. With a few lines of code, you've calculated the number of missing values for each column in the dataset, and the results are illuminating."
   ]
  },
  {
   "cell_type": "code",
   "execution_count": null,
   "metadata": {
    "vscode": {
     "languageId": "plaintext"
    }
   },
   "outputs": [],
   "source": [
    "# --- WRITE YOUR CODE FOR TASK 2 ---\n",
    "null_values = df.isnull().sum()\n",
    "null_values\n",
    "\n",
    "#--- Inspect data ---"
   ]
  },
  {
   "attachments": {},
   "cell_type": "markdown",
   "metadata": {},
   "source": [
    "## Task 3: Data Refinement for NASA Astronaut Data.\n",
    "In your ongoing journey through the NASA astronaut dataset, you've embarked on a quest for data integrity and precision. The code you've executed represents a pivotal moment in this endeavor, where you're not just analyzing data but also sculpting it to reveal the true narrative of these space pioneers."
   ]
  },
  {
   "cell_type": "code",
   "execution_count": null,
   "metadata": {
    "vscode": {
     "languageId": "plaintext"
    }
   },
   "outputs": [],
   "source": [
    "#--- WRITE YOUR CODE FOR TASK 3 ---\n",
    "df.dropna(subset=['Alma_Mater'], inplace=True)\n",
    "index_to_remove = df.index[(df['Death_Mission'].isnull()) & (df['Death_Date'].notnull())]\n",
    "df.drop(index_to_remove, inplace=True)\n",
    "df['Birth_Date'] = pd.to_datetime(df['Birth_Date'], dayfirst=True)\n",
    "df['Death_Date'] = pd.to_datetime(df['Death_Date'], dayfirst=True)\n",
    "\n",
    "df\n",
    "#--- Inspect data ---"
   ]
  },
  {
   "attachments": {},
   "cell_type": "markdown",
   "metadata": {},
   "source": [
    "## Task 4: Preparing Data for SQL Analysis.\n",
    "In the midst of your data journey through the NASA astronaut dataset, you've arrived at a crucial juncture where your focus shifts to data export and preparation for a new phase in your analysis.\n",
    "\n",
    "The destination is clear: a CSV file named 'astronauts.csv' that will serve as the foundation for your SQL exploration. This export step ensures that the data you've curated and cleaned is ready to be loaded into a relational database, where you can perform more intricate queries and derive deeper insights."
   ]
  },
  {
   "cell_type": "code",
   "execution_count": null,
   "metadata": {
    "vscode": {
     "languageId": "plaintext"
    }
   },
   "outputs": [],
   "source": [
    "# ...WRITE YOUR CODE FOR TASK 4 ...\n",
    "#export the cleaned data\n",
    "df\n",
    "#df.to_csv('astronauts.csv',index=False)\n",
    "\n",
    "#--- Inspect data ---"
   ]
  },
  {
   "attachments": {},
   "cell_type": "markdown",
   "metadata": {},
   "source": [
    "Task 5: Data Download, Import, and Database Connection."
   ]
  },
  {
   "cell_type": "code",
   "execution_count": null,
   "metadata": {
    "vscode": {
     "languageId": "plaintext"
    }
   },
   "outputs": [],
   "source": [
    "# -- Load the sql extention ----\n",
    "%load_ext sql\n",
    "\n",
    "# --- Load your mysql db using credentials from the \"DB\" area ---\n",
    "%sql mysql+pymysql://<bc8f1ae0>:<Cab#22se>@localhost/<bc8f1ae0>"
   ]
  }
 ],
 "metadata": {
  "language_info": {
   "name": "python"
  },
  "orig_nbformat": 4
 },
 "nbformat": 4,
 "nbformat_minor": 2
}
